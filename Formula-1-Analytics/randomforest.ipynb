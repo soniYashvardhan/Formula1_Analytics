{
  "cells": [
    {
      "cell_type": "code",
      "execution_count": 1,
      "metadata": {
        "id": "U8vrtJL_mWm9"
      },
      "outputs": [],
      "source": [
        "import numpy as np\n",
        "import pandas as pd\n",
        "import matplotlib.pyplot as plt\n",
        "import seaborn as sns"
      ]
    },
    {
      "cell_type": "code",
      "execution_count": 2,
      "metadata": {
        "id": "A3S_rvlFnu1T"
      },
      "outputs": [],
      "source": [
        "races=pd.read_csv('./datasets/cleaned/races.csv')"
      ]
    },
    {
      "cell_type": "code",
      "execution_count": 3,
      "metadata": {
        "colab": {
          "base_uri": "https://localhost:8080/"
        },
        "id": "lgW7fFTAn0tB",
        "outputId": "78d55420-a3a3-497f-f0fb-0b649f368b6d"
      },
      "outputs": [
        {
          "data": {
            "text/plain": [
              "raceId       1079\n",
              "year           73\n",
              "round          22\n",
              "circuitId      76\n",
              "name           53\n",
              "date         1079\n",
              "dtype: int64"
            ]
          },
          "execution_count": 3,
          "metadata": {},
          "output_type": "execute_result"
        }
      ],
      "source": [
        "#races=races.drop('Unnamed: 0',axis=1)\n",
        "races.head()\n",
        "races.nunique()"
      ]
    },
    {
      "cell_type": "code",
      "execution_count": 4,
      "metadata": {
        "id": "BvOB352Un2Qj"
      },
      "outputs": [],
      "source": [
        "results=pd.read_csv('./datasets/cleaned/race_results.csv')"
      ]
    },
    {
      "cell_type": "code",
      "execution_count": 5,
      "metadata": {
        "id": "sRBqJ9CzoI2g"
      },
      "outputs": [],
      "source": [
        "# results=results.drop('Unnamed: 0',axis=1)"
      ]
    },
    {
      "cell_type": "code",
      "execution_count": 6,
      "metadata": {
        "colab": {
          "base_uri": "https://localhost:8080/"
        },
        "id": "_p-G84DyoKZv",
        "outputId": "1a2f1dd0-723e-49e6-b7a4-46b038959aca"
      },
      "outputs": [
        {
          "data": {
            "text/plain": [
              "raceId             1070\n",
              "driverId            854\n",
              "constructorId       210\n",
              "grid                 35\n",
              "positionOrder        39\n",
              "points               39\n",
              "laps                172\n",
              "time               6927\n",
              "milliseconds       6927\n",
              "fastestLap           80\n",
              "rank                 25\n",
              "fastestLapTime     6627\n",
              "fastestLapSpeed    6840\n",
              "statusId            137\n",
              "dtype: int64"
            ]
          },
          "execution_count": 6,
          "metadata": {},
          "output_type": "execute_result"
        }
      ],
      "source": [
        "results.nunique()"
      ]
    },
    {
      "cell_type": "code",
      "execution_count": 7,
      "metadata": {
        "colab": {
          "base_uri": "https://localhost:8080/",
          "height": 206
        },
        "id": "hY4396zzoafa",
        "outputId": "edb9334b-c054-449c-e799-1209879bdd10"
      },
      "outputs": [
        {
          "data": {
            "text/html": [
              "<div>\n",
              "<style scoped>\n",
              "    .dataframe tbody tr th:only-of-type {\n",
              "        vertical-align: middle;\n",
              "    }\n",
              "\n",
              "    .dataframe tbody tr th {\n",
              "        vertical-align: top;\n",
              "    }\n",
              "\n",
              "    .dataframe thead th {\n",
              "        text-align: right;\n",
              "    }\n",
              "</style>\n",
              "<table border=\"1\" class=\"dataframe\">\n",
              "  <thead>\n",
              "    <tr style=\"text-align: right;\">\n",
              "      <th></th>\n",
              "      <th>raceId</th>\n",
              "      <th>driverId</th>\n",
              "      <th>points</th>\n",
              "      <th>position</th>\n",
              "      <th>wins</th>\n",
              "    </tr>\n",
              "  </thead>\n",
              "  <tbody>\n",
              "    <tr>\n",
              "      <th>0</th>\n",
              "      <td>18</td>\n",
              "      <td>1</td>\n",
              "      <td>10.0</td>\n",
              "      <td>1</td>\n",
              "      <td>1</td>\n",
              "    </tr>\n",
              "    <tr>\n",
              "      <th>1</th>\n",
              "      <td>18</td>\n",
              "      <td>2</td>\n",
              "      <td>8.0</td>\n",
              "      <td>2</td>\n",
              "      <td>0</td>\n",
              "    </tr>\n",
              "    <tr>\n",
              "      <th>2</th>\n",
              "      <td>18</td>\n",
              "      <td>3</td>\n",
              "      <td>6.0</td>\n",
              "      <td>3</td>\n",
              "      <td>0</td>\n",
              "    </tr>\n",
              "    <tr>\n",
              "      <th>3</th>\n",
              "      <td>18</td>\n",
              "      <td>4</td>\n",
              "      <td>5.0</td>\n",
              "      <td>4</td>\n",
              "      <td>0</td>\n",
              "    </tr>\n",
              "    <tr>\n",
              "      <th>4</th>\n",
              "      <td>18</td>\n",
              "      <td>5</td>\n",
              "      <td>4.0</td>\n",
              "      <td>5</td>\n",
              "      <td>0</td>\n",
              "    </tr>\n",
              "  </tbody>\n",
              "</table>\n",
              "</div>"
            ],
            "text/plain": [
              "   raceId  driverId  points  position  wins\n",
              "0      18         1    10.0         1     1\n",
              "1      18         2     8.0         2     0\n",
              "2      18         3     6.0         3     0\n",
              "3      18         4     5.0         4     0\n",
              "4      18         5     4.0         5     0"
            ]
          },
          "execution_count": 7,
          "metadata": {},
          "output_type": "execute_result"
        }
      ],
      "source": [
        "driver_standings=pd.read_csv('./datasets/cleaned/driver_standings.csv')\n",
        "# driver_standings=driver_standings.drop('Unnamed: 0',axis=1)\n",
        "driver_standings.head()"
      ]
    },
    {
      "cell_type": "code",
      "execution_count": 8,
      "metadata": {
        "colab": {
          "base_uri": "https://localhost:8080/",
          "height": 206
        },
        "id": "nE7xam73o2-h",
        "outputId": "5e68ca09-a45b-4e0b-e796-5dc93c8c2291"
      },
      "outputs": [
        {
          "data": {
            "text/html": [
              "<div>\n",
              "<style scoped>\n",
              "    .dataframe tbody tr th:only-of-type {\n",
              "        vertical-align: middle;\n",
              "    }\n",
              "\n",
              "    .dataframe tbody tr th {\n",
              "        vertical-align: top;\n",
              "    }\n",
              "\n",
              "    .dataframe thead th {\n",
              "        text-align: right;\n",
              "    }\n",
              "</style>\n",
              "<table border=\"1\" class=\"dataframe\">\n",
              "  <thead>\n",
              "    <tr style=\"text-align: right;\">\n",
              "      <th></th>\n",
              "      <th>raceId</th>\n",
              "      <th>constructorId</th>\n",
              "      <th>points</th>\n",
              "      <th>position</th>\n",
              "      <th>wins</th>\n",
              "    </tr>\n",
              "  </thead>\n",
              "  <tbody>\n",
              "    <tr>\n",
              "      <th>0</th>\n",
              "      <td>18</td>\n",
              "      <td>1</td>\n",
              "      <td>14.0</td>\n",
              "      <td>1</td>\n",
              "      <td>1</td>\n",
              "    </tr>\n",
              "    <tr>\n",
              "      <th>1</th>\n",
              "      <td>18</td>\n",
              "      <td>2</td>\n",
              "      <td>8.0</td>\n",
              "      <td>3</td>\n",
              "      <td>0</td>\n",
              "    </tr>\n",
              "    <tr>\n",
              "      <th>2</th>\n",
              "      <td>18</td>\n",
              "      <td>3</td>\n",
              "      <td>9.0</td>\n",
              "      <td>2</td>\n",
              "      <td>0</td>\n",
              "    </tr>\n",
              "    <tr>\n",
              "      <th>3</th>\n",
              "      <td>18</td>\n",
              "      <td>4</td>\n",
              "      <td>5.0</td>\n",
              "      <td>4</td>\n",
              "      <td>0</td>\n",
              "    </tr>\n",
              "    <tr>\n",
              "      <th>4</th>\n",
              "      <td>18</td>\n",
              "      <td>5</td>\n",
              "      <td>2.0</td>\n",
              "      <td>5</td>\n",
              "      <td>0</td>\n",
              "    </tr>\n",
              "  </tbody>\n",
              "</table>\n",
              "</div>"
            ],
            "text/plain": [
              "   raceId  constructorId  points  position  wins\n",
              "0      18              1    14.0         1     1\n",
              "1      18              2     8.0         3     0\n",
              "2      18              3     9.0         2     0\n",
              "3      18              4     5.0         4     0\n",
              "4      18              5     2.0         5     0"
            ]
          },
          "execution_count": 8,
          "metadata": {},
          "output_type": "execute_result"
        }
      ],
      "source": [
        "constructor_standings=pd.read_csv('./datasets/cleaned/constructor_standings.csv')\n",
        "constructor_standings.head()"
      ]
    },
    {
      "cell_type": "code",
      "execution_count": 9,
      "metadata": {
        "colab": {
          "base_uri": "https://localhost:8080/",
          "height": 206
        },
        "id": "y9oPMYP1pIZR",
        "outputId": "3dfc746a-6d24-4ddb-891e-0edec60de9a8"
      },
      "outputs": [
        {
          "data": {
            "text/html": [
              "<div>\n",
              "<style scoped>\n",
              "    .dataframe tbody tr th:only-of-type {\n",
              "        vertical-align: middle;\n",
              "    }\n",
              "\n",
              "    .dataframe tbody tr th {\n",
              "        vertical-align: top;\n",
              "    }\n",
              "\n",
              "    .dataframe thead th {\n",
              "        text-align: right;\n",
              "    }\n",
              "</style>\n",
              "<table border=\"1\" class=\"dataframe\">\n",
              "  <thead>\n",
              "    <tr style=\"text-align: right;\">\n",
              "      <th></th>\n",
              "      <th>raceId</th>\n",
              "      <th>driverId</th>\n",
              "      <th>constructorId</th>\n",
              "      <th>grid</th>\n",
              "      <th>q1</th>\n",
              "      <th>q2</th>\n",
              "      <th>q3</th>\n",
              "    </tr>\n",
              "  </thead>\n",
              "  <tbody>\n",
              "    <tr>\n",
              "      <th>0</th>\n",
              "      <td>18</td>\n",
              "      <td>1</td>\n",
              "      <td>1</td>\n",
              "      <td>1</td>\n",
              "      <td>0 days 00:01:26.572000</td>\n",
              "      <td>0 days 00:01:25.187000</td>\n",
              "      <td>0 days 00:01:26.714000</td>\n",
              "    </tr>\n",
              "    <tr>\n",
              "      <th>1</th>\n",
              "      <td>18</td>\n",
              "      <td>9</td>\n",
              "      <td>2</td>\n",
              "      <td>2</td>\n",
              "      <td>0 days 00:01:26.103000</td>\n",
              "      <td>0 days 00:01:25.315000</td>\n",
              "      <td>0 days 00:01:26.869000</td>\n",
              "    </tr>\n",
              "    <tr>\n",
              "      <th>2</th>\n",
              "      <td>18</td>\n",
              "      <td>5</td>\n",
              "      <td>1</td>\n",
              "      <td>3</td>\n",
              "      <td>0 days 00:01:25.664000</td>\n",
              "      <td>0 days 00:01:25.452000</td>\n",
              "      <td>0 days 00:01:27.079000</td>\n",
              "    </tr>\n",
              "    <tr>\n",
              "      <th>3</th>\n",
              "      <td>18</td>\n",
              "      <td>13</td>\n",
              "      <td>6</td>\n",
              "      <td>4</td>\n",
              "      <td>0 days 00:01:25.994000</td>\n",
              "      <td>0 days 00:01:25.691000</td>\n",
              "      <td>0 days 00:01:27.178000</td>\n",
              "    </tr>\n",
              "    <tr>\n",
              "      <th>4</th>\n",
              "      <td>18</td>\n",
              "      <td>2</td>\n",
              "      <td>2</td>\n",
              "      <td>5</td>\n",
              "      <td>0 days 00:01:25.960000</td>\n",
              "      <td>0 days 00:01:25.518000</td>\n",
              "      <td>0 days 00:01:27.236000</td>\n",
              "    </tr>\n",
              "  </tbody>\n",
              "</table>\n",
              "</div>"
            ],
            "text/plain": [
              "   raceId  driverId  constructorId  grid                      q1  \\\n",
              "0      18         1              1     1  0 days 00:01:26.572000   \n",
              "1      18         9              2     2  0 days 00:01:26.103000   \n",
              "2      18         5              1     3  0 days 00:01:25.664000   \n",
              "3      18        13              6     4  0 days 00:01:25.994000   \n",
              "4      18         2              2     5  0 days 00:01:25.960000   \n",
              "\n",
              "                       q2                      q3  \n",
              "0  0 days 00:01:25.187000  0 days 00:01:26.714000  \n",
              "1  0 days 00:01:25.315000  0 days 00:01:26.869000  \n",
              "2  0 days 00:01:25.452000  0 days 00:01:27.079000  \n",
              "3  0 days 00:01:25.691000  0 days 00:01:27.178000  \n",
              "4  0 days 00:01:25.518000  0 days 00:01:27.236000  "
            ]
          },
          "execution_count": 9,
          "metadata": {},
          "output_type": "execute_result"
        }
      ],
      "source": [
        "qualifying=pd.read_csv('./datasets/cleaned/qualifying_results.csv')\n",
        "# qualifying=qualifying.drop('Unnamed: 0',axis=1)\n",
        "qualifying.rename(columns = {'position':'grid'}, inplace = True)\n",
        "qualifying.head()\n"
      ]
    },
    {
      "cell_type": "code",
      "execution_count": 10,
      "metadata": {
        "id": "Id-ymSOdphzc"
      },
      "outputs": [],
      "source": [
        "df1 = pd.merge(races, results, how='inner', on=['raceId'])"
      ]
    },
    {
      "cell_type": "code",
      "execution_count": 11,
      "metadata": {
        "colab": {
          "base_uri": "https://localhost:8080/",
          "height": 444
        },
        "id": "_73dImmDq2dX",
        "outputId": "125c84de-fc7e-48d4-9dc0-c98b14bcf832"
      },
      "outputs": [
        {
          "data": {
            "text/html": [
              "<div>\n",
              "<style scoped>\n",
              "    .dataframe tbody tr th:only-of-type {\n",
              "        vertical-align: middle;\n",
              "    }\n",
              "\n",
              "    .dataframe tbody tr th {\n",
              "        vertical-align: top;\n",
              "    }\n",
              "\n",
              "    .dataframe thead th {\n",
              "        text-align: right;\n",
              "    }\n",
              "</style>\n",
              "<table border=\"1\" class=\"dataframe\">\n",
              "  <thead>\n",
              "    <tr style=\"text-align: right;\">\n",
              "      <th></th>\n",
              "      <th>raceId</th>\n",
              "      <th>year</th>\n",
              "      <th>round</th>\n",
              "      <th>circuitId</th>\n",
              "      <th>name</th>\n",
              "      <th>date</th>\n",
              "      <th>driverId</th>\n",
              "      <th>constructorId</th>\n",
              "      <th>grid</th>\n",
              "      <th>positionOrder</th>\n",
              "      <th>points</th>\n",
              "      <th>laps</th>\n",
              "      <th>time</th>\n",
              "      <th>milliseconds</th>\n",
              "      <th>fastestLap</th>\n",
              "      <th>rank</th>\n",
              "      <th>fastestLapTime</th>\n",
              "      <th>fastestLapSpeed</th>\n",
              "      <th>statusId</th>\n",
              "    </tr>\n",
              "  </thead>\n",
              "  <tbody>\n",
              "    <tr>\n",
              "      <th>0</th>\n",
              "      <td>1</td>\n",
              "      <td>2009</td>\n",
              "      <td>1</td>\n",
              "      <td>1</td>\n",
              "      <td>Australian Grand Prix</td>\n",
              "      <td>2009-03-29</td>\n",
              "      <td>18</td>\n",
              "      <td>23</td>\n",
              "      <td>1</td>\n",
              "      <td>1</td>\n",
              "      <td>10.0</td>\n",
              "      <td>58</td>\n",
              "      <td>0 days 01:34:15.784000</td>\n",
              "      <td>5655784.0</td>\n",
              "      <td>17.0</td>\n",
              "      <td>3.0</td>\n",
              "      <td>0 days 00:01:28.020000</td>\n",
              "      <td>216.891</td>\n",
              "      <td>1</td>\n",
              "    </tr>\n",
              "    <tr>\n",
              "      <th>1</th>\n",
              "      <td>1</td>\n",
              "      <td>2009</td>\n",
              "      <td>1</td>\n",
              "      <td>1</td>\n",
              "      <td>Australian Grand Prix</td>\n",
              "      <td>2009-03-29</td>\n",
              "      <td>22</td>\n",
              "      <td>23</td>\n",
              "      <td>2</td>\n",
              "      <td>2</td>\n",
              "      <td>8.0</td>\n",
              "      <td>58</td>\n",
              "      <td>0 days 01:34:16.591000</td>\n",
              "      <td>5656591.0</td>\n",
              "      <td>43.0</td>\n",
              "      <td>14.0</td>\n",
              "      <td>0 days 00:01:29.066000</td>\n",
              "      <td>214.344</td>\n",
              "      <td>1</td>\n",
              "    </tr>\n",
              "    <tr>\n",
              "      <th>2</th>\n",
              "      <td>1</td>\n",
              "      <td>2009</td>\n",
              "      <td>1</td>\n",
              "      <td>1</td>\n",
              "      <td>Australian Grand Prix</td>\n",
              "      <td>2009-03-29</td>\n",
              "      <td>15</td>\n",
              "      <td>7</td>\n",
              "      <td>20</td>\n",
              "      <td>3</td>\n",
              "      <td>6.0</td>\n",
              "      <td>58</td>\n",
              "      <td>0 days 01:34:17.388000</td>\n",
              "      <td>5657388.0</td>\n",
              "      <td>50.0</td>\n",
              "      <td>10.0</td>\n",
              "      <td>0 days 00:01:28.916000</td>\n",
              "      <td>214.706</td>\n",
              "      <td>1</td>\n",
              "    </tr>\n",
              "    <tr>\n",
              "      <th>3</th>\n",
              "      <td>1</td>\n",
              "      <td>2009</td>\n",
              "      <td>1</td>\n",
              "      <td>1</td>\n",
              "      <td>Australian Grand Prix</td>\n",
              "      <td>2009-03-29</td>\n",
              "      <td>10</td>\n",
              "      <td>7</td>\n",
              "      <td>19</td>\n",
              "      <td>4</td>\n",
              "      <td>5.0</td>\n",
              "      <td>58</td>\n",
              "      <td>0 days 01:34:20.219000</td>\n",
              "      <td>5660219.0</td>\n",
              "      <td>53.0</td>\n",
              "      <td>6.0</td>\n",
              "      <td>0 days 00:01:28.416000</td>\n",
              "      <td>215.920</td>\n",
              "      <td>1</td>\n",
              "    </tr>\n",
              "    <tr>\n",
              "      <th>4</th>\n",
              "      <td>1</td>\n",
              "      <td>2009</td>\n",
              "      <td>1</td>\n",
              "      <td>1</td>\n",
              "      <td>Australian Grand Prix</td>\n",
              "      <td>2009-03-29</td>\n",
              "      <td>4</td>\n",
              "      <td>4</td>\n",
              "      <td>10</td>\n",
              "      <td>5</td>\n",
              "      <td>4.0</td>\n",
              "      <td>58</td>\n",
              "      <td>0 days 01:34:20.663000</td>\n",
              "      <td>5660663.0</td>\n",
              "      <td>53.0</td>\n",
              "      <td>9.0</td>\n",
              "      <td>0 days 00:01:28.712000</td>\n",
              "      <td>215.199</td>\n",
              "      <td>1</td>\n",
              "    </tr>\n",
              "  </tbody>\n",
              "</table>\n",
              "</div>"
            ],
            "text/plain": [
              "   raceId  year  round  circuitId                   name        date  \\\n",
              "0       1  2009      1          1  Australian Grand Prix  2009-03-29   \n",
              "1       1  2009      1          1  Australian Grand Prix  2009-03-29   \n",
              "2       1  2009      1          1  Australian Grand Prix  2009-03-29   \n",
              "3       1  2009      1          1  Australian Grand Prix  2009-03-29   \n",
              "4       1  2009      1          1  Australian Grand Prix  2009-03-29   \n",
              "\n",
              "   driverId  constructorId  grid  positionOrder  points  laps  \\\n",
              "0        18             23     1              1    10.0    58   \n",
              "1        22             23     2              2     8.0    58   \n",
              "2        15              7    20              3     6.0    58   \n",
              "3        10              7    19              4     5.0    58   \n",
              "4         4              4    10              5     4.0    58   \n",
              "\n",
              "                     time  milliseconds  fastestLap  rank  \\\n",
              "0  0 days 01:34:15.784000     5655784.0        17.0   3.0   \n",
              "1  0 days 01:34:16.591000     5656591.0        43.0  14.0   \n",
              "2  0 days 01:34:17.388000     5657388.0        50.0  10.0   \n",
              "3  0 days 01:34:20.219000     5660219.0        53.0   6.0   \n",
              "4  0 days 01:34:20.663000     5660663.0        53.0   9.0   \n",
              "\n",
              "           fastestLapTime  fastestLapSpeed  statusId  \n",
              "0  0 days 00:01:28.020000          216.891         1  \n",
              "1  0 days 00:01:29.066000          214.344         1  \n",
              "2  0 days 00:01:28.916000          214.706         1  \n",
              "3  0 days 00:01:28.416000          215.920         1  \n",
              "4  0 days 00:01:28.712000          215.199         1  "
            ]
          },
          "execution_count": 11,
          "metadata": {},
          "output_type": "execute_result"
        }
      ],
      "source": [
        "df1.head()"
      ]
    },
    {
      "cell_type": "code",
      "execution_count": 12,
      "metadata": {
        "id": "e-hnPFoFq4BO"
      },
      "outputs": [],
      "source": [
        "dum2=pd.merge(races,driver_standings,how='inner',on=['raceId'])\n",
        "df2 = pd.merge(df1, dum2, how='left', on=['year','round', 'driverId']) "
      ]
    },
    {
      "cell_type": "code",
      "execution_count": 13,
      "metadata": {
        "colab": {
          "base_uri": "https://localhost:8080/"
        },
        "id": "34motRnbrWtN",
        "outputId": "296afcd6-12a2-4f0c-ab45-8607377632dc"
      },
      "outputs": [
        {
          "data": {
            "text/plain": [
              "raceId_x           1070\n",
              "year                 73\n",
              "round                22\n",
              "circuitId_x          76\n",
              "name_x               53\n",
              "date_x             1070\n",
              "driverId            854\n",
              "constructorId       210\n",
              "grid                 35\n",
              "positionOrder        39\n",
              "points_x             39\n",
              "laps                172\n",
              "time               6927\n",
              "milliseconds       6927\n",
              "fastestLap           80\n",
              "rank                 25\n",
              "fastestLapTime     6627\n",
              "fastestLapSpeed    6840\n",
              "statusId            137\n",
              "raceId_y           1070\n",
              "circuitId_y          76\n",
              "name_y               53\n",
              "date_y             1070\n",
              "points_y            403\n",
              "position             97\n",
              "wins                 14\n",
              "dtype: int64"
            ]
          },
          "execution_count": 13,
          "metadata": {},
          "output_type": "execute_result"
        }
      ],
      "source": [
        "df2.nunique()"
      ]
    },
    {
      "cell_type": "code",
      "execution_count": 14,
      "metadata": {
        "id": "jYwnyjrgrYSg"
      },
      "outputs": [],
      "source": [
        "dum3=pd.merge(races,constructor_standings,how='inner',on=['raceId'])\n",
        "df4 = pd.merge(df2, dum3, how='left',on=['year','round','constructorId'])"
      ]
    },
    {
      "cell_type": "code",
      "execution_count": 15,
      "metadata": {
        "colab": {
          "base_uri": "https://localhost:8080/"
        },
        "id": "EQ5e1g80sA4j",
        "outputId": "18824837-9f11-4a3b-cb64-ed37ec58ed38"
      },
      "outputs": [
        {
          "data": {
            "text/plain": [
              "raceId_x           1070\n",
              "year                 73\n",
              "round                22\n",
              "circuitId_x          76\n",
              "name_x               53\n",
              "date_x             1070\n",
              "driverId            854\n",
              "constructorId       210\n",
              "grid                 35\n",
              "positionOrder        39\n",
              "points_x             39\n",
              "laps                172\n",
              "time               6927\n",
              "milliseconds       6927\n",
              "fastestLap           80\n",
              "rank                 25\n",
              "fastestLapTime     6627\n",
              "fastestLapSpeed    6840\n",
              "statusId            137\n",
              "raceId_y           1070\n",
              "circuitId_y          76\n",
              "name_y               53\n",
              "date_y             1070\n",
              "points_y            403\n",
              "position_x           97\n",
              "wins_x               14\n",
              "raceId             1003\n",
              "circuitId            73\n",
              "name                 51\n",
              "date               1003\n",
              "points              520\n",
              "position_y           21\n",
              "wins_y               20\n",
              "dtype: int64"
            ]
          },
          "execution_count": 15,
          "metadata": {},
          "output_type": "execute_result"
        }
      ],
      "source": [
        "df4.nunique()"
      ]
    },
    {
      "cell_type": "code",
      "execution_count": 16,
      "metadata": {
        "colab": {
          "base_uri": "https://localhost:8080/",
          "height": 473
        },
        "id": "0qsatasSsFGM",
        "outputId": "1e53d704-44b9-4470-cf1d-1979ebdd9523"
      },
      "outputs": [
        {
          "data": {
            "text/html": [
              "<div>\n",
              "<style scoped>\n",
              "    .dataframe tbody tr th:only-of-type {\n",
              "        vertical-align: middle;\n",
              "    }\n",
              "\n",
              "    .dataframe tbody tr th {\n",
              "        vertical-align: top;\n",
              "    }\n",
              "\n",
              "    .dataframe thead th {\n",
              "        text-align: right;\n",
              "    }\n",
              "</style>\n",
              "<table border=\"1\" class=\"dataframe\">\n",
              "  <thead>\n",
              "    <tr style=\"text-align: right;\">\n",
              "      <th></th>\n",
              "      <th>raceId_x</th>\n",
              "      <th>year</th>\n",
              "      <th>round</th>\n",
              "      <th>circuitId_x</th>\n",
              "      <th>name_x</th>\n",
              "      <th>date_x</th>\n",
              "      <th>driverId</th>\n",
              "      <th>constructorId</th>\n",
              "      <th>grid</th>\n",
              "      <th>positionOrder</th>\n",
              "      <th>...</th>\n",
              "      <th>points_y</th>\n",
              "      <th>position_x</th>\n",
              "      <th>wins_x</th>\n",
              "      <th>raceId</th>\n",
              "      <th>circuitId</th>\n",
              "      <th>name</th>\n",
              "      <th>date</th>\n",
              "      <th>points</th>\n",
              "      <th>position_y</th>\n",
              "      <th>wins_y</th>\n",
              "    </tr>\n",
              "  </thead>\n",
              "  <tbody>\n",
              "    <tr>\n",
              "      <th>0</th>\n",
              "      <td>1</td>\n",
              "      <td>2009</td>\n",
              "      <td>1</td>\n",
              "      <td>1</td>\n",
              "      <td>Australian Grand Prix</td>\n",
              "      <td>2009-03-29</td>\n",
              "      <td>18</td>\n",
              "      <td>23</td>\n",
              "      <td>1</td>\n",
              "      <td>1</td>\n",
              "      <td>...</td>\n",
              "      <td>10.0</td>\n",
              "      <td>1.0</td>\n",
              "      <td>1.0</td>\n",
              "      <td>1.0</td>\n",
              "      <td>1.0</td>\n",
              "      <td>Australian Grand Prix</td>\n",
              "      <td>2009-03-29</td>\n",
              "      <td>18.0</td>\n",
              "      <td>1.0</td>\n",
              "      <td>1.0</td>\n",
              "    </tr>\n",
              "    <tr>\n",
              "      <th>1</th>\n",
              "      <td>1</td>\n",
              "      <td>2009</td>\n",
              "      <td>1</td>\n",
              "      <td>1</td>\n",
              "      <td>Australian Grand Prix</td>\n",
              "      <td>2009-03-29</td>\n",
              "      <td>22</td>\n",
              "      <td>23</td>\n",
              "      <td>2</td>\n",
              "      <td>2</td>\n",
              "      <td>...</td>\n",
              "      <td>8.0</td>\n",
              "      <td>2.0</td>\n",
              "      <td>0.0</td>\n",
              "      <td>1.0</td>\n",
              "      <td>1.0</td>\n",
              "      <td>Australian Grand Prix</td>\n",
              "      <td>2009-03-29</td>\n",
              "      <td>18.0</td>\n",
              "      <td>1.0</td>\n",
              "      <td>1.0</td>\n",
              "    </tr>\n",
              "    <tr>\n",
              "      <th>2</th>\n",
              "      <td>1</td>\n",
              "      <td>2009</td>\n",
              "      <td>1</td>\n",
              "      <td>1</td>\n",
              "      <td>Australian Grand Prix</td>\n",
              "      <td>2009-03-29</td>\n",
              "      <td>15</td>\n",
              "      <td>7</td>\n",
              "      <td>20</td>\n",
              "      <td>3</td>\n",
              "      <td>...</td>\n",
              "      <td>6.0</td>\n",
              "      <td>3.0</td>\n",
              "      <td>0.0</td>\n",
              "      <td>1.0</td>\n",
              "      <td>1.0</td>\n",
              "      <td>Australian Grand Prix</td>\n",
              "      <td>2009-03-29</td>\n",
              "      <td>11.0</td>\n",
              "      <td>2.0</td>\n",
              "      <td>0.0</td>\n",
              "    </tr>\n",
              "    <tr>\n",
              "      <th>3</th>\n",
              "      <td>1</td>\n",
              "      <td>2009</td>\n",
              "      <td>1</td>\n",
              "      <td>1</td>\n",
              "      <td>Australian Grand Prix</td>\n",
              "      <td>2009-03-29</td>\n",
              "      <td>10</td>\n",
              "      <td>7</td>\n",
              "      <td>19</td>\n",
              "      <td>4</td>\n",
              "      <td>...</td>\n",
              "      <td>5.0</td>\n",
              "      <td>4.0</td>\n",
              "      <td>0.0</td>\n",
              "      <td>1.0</td>\n",
              "      <td>1.0</td>\n",
              "      <td>Australian Grand Prix</td>\n",
              "      <td>2009-03-29</td>\n",
              "      <td>11.0</td>\n",
              "      <td>2.0</td>\n",
              "      <td>0.0</td>\n",
              "    </tr>\n",
              "    <tr>\n",
              "      <th>4</th>\n",
              "      <td>1</td>\n",
              "      <td>2009</td>\n",
              "      <td>1</td>\n",
              "      <td>1</td>\n",
              "      <td>Australian Grand Prix</td>\n",
              "      <td>2009-03-29</td>\n",
              "      <td>4</td>\n",
              "      <td>4</td>\n",
              "      <td>10</td>\n",
              "      <td>5</td>\n",
              "      <td>...</td>\n",
              "      <td>4.0</td>\n",
              "      <td>5.0</td>\n",
              "      <td>0.0</td>\n",
              "      <td>1.0</td>\n",
              "      <td>1.0</td>\n",
              "      <td>Australian Grand Prix</td>\n",
              "      <td>2009-03-29</td>\n",
              "      <td>4.0</td>\n",
              "      <td>3.0</td>\n",
              "      <td>0.0</td>\n",
              "    </tr>\n",
              "  </tbody>\n",
              "</table>\n",
              "<p>5 rows × 33 columns</p>\n",
              "</div>"
            ],
            "text/plain": [
              "   raceId_x  year  round  circuitId_x                 name_x      date_x  \\\n",
              "0         1  2009      1            1  Australian Grand Prix  2009-03-29   \n",
              "1         1  2009      1            1  Australian Grand Prix  2009-03-29   \n",
              "2         1  2009      1            1  Australian Grand Prix  2009-03-29   \n",
              "3         1  2009      1            1  Australian Grand Prix  2009-03-29   \n",
              "4         1  2009      1            1  Australian Grand Prix  2009-03-29   \n",
              "\n",
              "   driverId  constructorId  grid  positionOrder  ...  points_y  position_x  \\\n",
              "0        18             23     1              1  ...      10.0         1.0   \n",
              "1        22             23     2              2  ...       8.0         2.0   \n",
              "2        15              7    20              3  ...       6.0         3.0   \n",
              "3        10              7    19              4  ...       5.0         4.0   \n",
              "4         4              4    10              5  ...       4.0         5.0   \n",
              "\n",
              "  wins_x  raceId  circuitId                   name        date  points  \\\n",
              "0    1.0     1.0        1.0  Australian Grand Prix  2009-03-29    18.0   \n",
              "1    0.0     1.0        1.0  Australian Grand Prix  2009-03-29    18.0   \n",
              "2    0.0     1.0        1.0  Australian Grand Prix  2009-03-29    11.0   \n",
              "3    0.0     1.0        1.0  Australian Grand Prix  2009-03-29    11.0   \n",
              "4    0.0     1.0        1.0  Australian Grand Prix  2009-03-29     4.0   \n",
              "\n",
              "   position_y  wins_y  \n",
              "0         1.0     1.0  \n",
              "1         1.0     1.0  \n",
              "2         2.0     0.0  \n",
              "3         2.0     0.0  \n",
              "4         3.0     0.0  \n",
              "\n",
              "[5 rows x 33 columns]"
            ]
          },
          "execution_count": 16,
          "metadata": {},
          "output_type": "execute_result"
        }
      ],
      "source": [
        "df4.head()"
      ]
    },
    {
      "cell_type": "code",
      "execution_count": 17,
      "metadata": {
        "colab": {
          "base_uri": "https://localhost:8080/"
        },
        "id": "5UKGKlSlsJy_",
        "outputId": "97a3f28f-b003-48aa-c4b9-703b5462003d"
      },
      "outputs": [
        {
          "name": "stderr",
          "output_type": "stream",
          "text": [
            "/tmp/ipykernel_6166/925385122.py:2: FutureWarning: Passing 'suffixes' which cause duplicate columns {'name_x', 'date_x', 'raceId_x', 'circuitId_x'} in the result is deprecated and will raise a MergeError in a future version.\n",
            "  final_df = pd.merge(df4, dum4, how='inner', on=['year', 'round', 'grid'])\n"
          ]
        }
      ],
      "source": [
        "dum4=pd.merge(races,qualifying,how='inner',on=['raceId'])\n",
        "final_df = pd.merge(df4, dum4, how='inner', on=['year', 'round', 'grid'])"
      ]
    },
    {
      "cell_type": "code",
      "execution_count": 18,
      "metadata": {
        "colab": {
          "base_uri": "https://localhost:8080/",
          "height": 473
        },
        "id": "GZRkKv1-tNEM",
        "outputId": "dc95b4fe-f057-4d5a-deb4-dc7647584eae"
      },
      "outputs": [
        {
          "data": {
            "text/html": [
              "<div>\n",
              "<style scoped>\n",
              "    .dataframe tbody tr th:only-of-type {\n",
              "        vertical-align: middle;\n",
              "    }\n",
              "\n",
              "    .dataframe tbody tr th {\n",
              "        vertical-align: top;\n",
              "    }\n",
              "\n",
              "    .dataframe thead th {\n",
              "        text-align: right;\n",
              "    }\n",
              "</style>\n",
              "<table border=\"1\" class=\"dataframe\">\n",
              "  <thead>\n",
              "    <tr style=\"text-align: right;\">\n",
              "      <th></th>\n",
              "      <th>raceId_x</th>\n",
              "      <th>year</th>\n",
              "      <th>round</th>\n",
              "      <th>circuitId_x</th>\n",
              "      <th>name_x</th>\n",
              "      <th>date_x</th>\n",
              "      <th>driverId_x</th>\n",
              "      <th>constructorId_x</th>\n",
              "      <th>grid</th>\n",
              "      <th>positionOrder</th>\n",
              "      <th>...</th>\n",
              "      <th>wins_y</th>\n",
              "      <th>raceId_y</th>\n",
              "      <th>circuitId_y</th>\n",
              "      <th>name_y</th>\n",
              "      <th>date_y</th>\n",
              "      <th>driverId_y</th>\n",
              "      <th>constructorId_y</th>\n",
              "      <th>q1</th>\n",
              "      <th>q2</th>\n",
              "      <th>q3</th>\n",
              "    </tr>\n",
              "  </thead>\n",
              "  <tbody>\n",
              "    <tr>\n",
              "      <th>0</th>\n",
              "      <td>1</td>\n",
              "      <td>2009</td>\n",
              "      <td>1</td>\n",
              "      <td>1</td>\n",
              "      <td>Australian Grand Prix</td>\n",
              "      <td>2009-03-29</td>\n",
              "      <td>18</td>\n",
              "      <td>23</td>\n",
              "      <td>1</td>\n",
              "      <td>1</td>\n",
              "      <td>...</td>\n",
              "      <td>1.0</td>\n",
              "      <td>1</td>\n",
              "      <td>1</td>\n",
              "      <td>Australian Grand Prix</td>\n",
              "      <td>2009-03-29</td>\n",
              "      <td>18</td>\n",
              "      <td>23</td>\n",
              "      <td>0 days 00:01:25.211000</td>\n",
              "      <td>0 days 00:01:24.855000</td>\n",
              "      <td>0 days 00:01:26.202000</td>\n",
              "    </tr>\n",
              "    <tr>\n",
              "      <th>1</th>\n",
              "      <td>1</td>\n",
              "      <td>2009</td>\n",
              "      <td>1</td>\n",
              "      <td>1</td>\n",
              "      <td>Australian Grand Prix</td>\n",
              "      <td>2009-03-29</td>\n",
              "      <td>22</td>\n",
              "      <td>23</td>\n",
              "      <td>2</td>\n",
              "      <td>2</td>\n",
              "      <td>...</td>\n",
              "      <td>1.0</td>\n",
              "      <td>1</td>\n",
              "      <td>1</td>\n",
              "      <td>Australian Grand Prix</td>\n",
              "      <td>2009-03-29</td>\n",
              "      <td>22</td>\n",
              "      <td>23</td>\n",
              "      <td>0 days 00:01:25.006000</td>\n",
              "      <td>0 days 00:01:24.783000</td>\n",
              "      <td>0 days 00:01:26.505000</td>\n",
              "    </tr>\n",
              "    <tr>\n",
              "      <th>2</th>\n",
              "      <td>1</td>\n",
              "      <td>2009</td>\n",
              "      <td>1</td>\n",
              "      <td>1</td>\n",
              "      <td>Australian Grand Prix</td>\n",
              "      <td>2009-03-29</td>\n",
              "      <td>15</td>\n",
              "      <td>7</td>\n",
              "      <td>20</td>\n",
              "      <td>3</td>\n",
              "      <td>...</td>\n",
              "      <td>0.0</td>\n",
              "      <td>1</td>\n",
              "      <td>1</td>\n",
              "      <td>Australian Grand Prix</td>\n",
              "      <td>2009-03-29</td>\n",
              "      <td>7</td>\n",
              "      <td>5</td>\n",
              "      <td>0 days 00:01:26.964000</td>\n",
              "      <td>0 days 00:00:00</td>\n",
              "      <td>0 days 00:00:00</td>\n",
              "    </tr>\n",
              "    <tr>\n",
              "      <th>3</th>\n",
              "      <td>1</td>\n",
              "      <td>2009</td>\n",
              "      <td>1</td>\n",
              "      <td>1</td>\n",
              "      <td>Australian Grand Prix</td>\n",
              "      <td>2009-03-29</td>\n",
              "      <td>10</td>\n",
              "      <td>7</td>\n",
              "      <td>19</td>\n",
              "      <td>4</td>\n",
              "      <td>...</td>\n",
              "      <td>0.0</td>\n",
              "      <td>1</td>\n",
              "      <td>1</td>\n",
              "      <td>Australian Grand Prix</td>\n",
              "      <td>2009-03-29</td>\n",
              "      <td>16</td>\n",
              "      <td>10</td>\n",
              "      <td>0 days 00:01:26.742000</td>\n",
              "      <td>0 days 00:00:00</td>\n",
              "      <td>0 days 00:00:00</td>\n",
              "    </tr>\n",
              "    <tr>\n",
              "      <th>4</th>\n",
              "      <td>1</td>\n",
              "      <td>2009</td>\n",
              "      <td>1</td>\n",
              "      <td>1</td>\n",
              "      <td>Australian Grand Prix</td>\n",
              "      <td>2009-03-29</td>\n",
              "      <td>4</td>\n",
              "      <td>4</td>\n",
              "      <td>10</td>\n",
              "      <td>5</td>\n",
              "      <td>...</td>\n",
              "      <td>0.0</td>\n",
              "      <td>1</td>\n",
              "      <td>1</td>\n",
              "      <td>Australian Grand Prix</td>\n",
              "      <td>2009-03-29</td>\n",
              "      <td>17</td>\n",
              "      <td>9</td>\n",
              "      <td>0 days 00:01:25.427000</td>\n",
              "      <td>0 days 00:01:25.241000</td>\n",
              "      <td>0 days 00:01:27.246000</td>\n",
              "    </tr>\n",
              "  </tbody>\n",
              "</table>\n",
              "<p>5 rows × 42 columns</p>\n",
              "</div>"
            ],
            "text/plain": [
              "   raceId_x  year  round  circuitId_x                 name_x      date_x  \\\n",
              "0         1  2009      1            1  Australian Grand Prix  2009-03-29   \n",
              "1         1  2009      1            1  Australian Grand Prix  2009-03-29   \n",
              "2         1  2009      1            1  Australian Grand Prix  2009-03-29   \n",
              "3         1  2009      1            1  Australian Grand Prix  2009-03-29   \n",
              "4         1  2009      1            1  Australian Grand Prix  2009-03-29   \n",
              "\n",
              "   driverId_x  constructorId_x  grid  positionOrder  ...  wins_y  raceId_y  \\\n",
              "0          18               23     1              1  ...     1.0         1   \n",
              "1          22               23     2              2  ...     1.0         1   \n",
              "2          15                7    20              3  ...     0.0         1   \n",
              "3          10                7    19              4  ...     0.0         1   \n",
              "4           4                4    10              5  ...     0.0         1   \n",
              "\n",
              "  circuitId_y                 name_y      date_y  driverId_y constructorId_y  \\\n",
              "0           1  Australian Grand Prix  2009-03-29          18              23   \n",
              "1           1  Australian Grand Prix  2009-03-29          22              23   \n",
              "2           1  Australian Grand Prix  2009-03-29           7               5   \n",
              "3           1  Australian Grand Prix  2009-03-29          16              10   \n",
              "4           1  Australian Grand Prix  2009-03-29          17               9   \n",
              "\n",
              "                       q1                      q2                      q3  \n",
              "0  0 days 00:01:25.211000  0 days 00:01:24.855000  0 days 00:01:26.202000  \n",
              "1  0 days 00:01:25.006000  0 days 00:01:24.783000  0 days 00:01:26.505000  \n",
              "2  0 days 00:01:26.964000         0 days 00:00:00         0 days 00:00:00  \n",
              "3  0 days 00:01:26.742000         0 days 00:00:00         0 days 00:00:00  \n",
              "4  0 days 00:01:25.427000  0 days 00:01:25.241000  0 days 00:01:27.246000  \n",
              "\n",
              "[5 rows x 42 columns]"
            ]
          },
          "execution_count": 18,
          "metadata": {},
          "output_type": "execute_result"
        }
      ],
      "source": [
        "final_df.head()"
      ]
    },
    {
      "cell_type": "code",
      "execution_count": 19,
      "metadata": {
        "colab": {
          "base_uri": "https://localhost:8080/"
        },
        "id": "hiVBzVK_tO5W",
        "outputId": "428ad230-de65-4182-cd8b-d9a328f9227e"
      },
      "outputs": [
        {
          "data": {
            "text/plain": [
              "raceId_x             0\n",
              "year                 0\n",
              "round                0\n",
              "circuitId_x          0\n",
              "name_x               0\n",
              "date_x               0\n",
              "driverId_x           0\n",
              "constructorId_x      0\n",
              "grid                 0\n",
              "positionOrder        0\n",
              "points_x             0\n",
              "laps                 0\n",
              "time                 0\n",
              "milliseconds         0\n",
              "fastestLap           0\n",
              "rank                 0\n",
              "fastestLapTime       0\n",
              "fastestLapSpeed      0\n",
              "statusId             0\n",
              "raceId_y           239\n",
              "circuitId_y        239\n",
              "name_y             239\n",
              "date_y             239\n",
              "points_y           239\n",
              "position_x         239\n",
              "wins_x             239\n",
              "raceId_x            91\n",
              "circuitId_x         91\n",
              "name_x              91\n",
              "date_x              91\n",
              "points              91\n",
              "position_y          91\n",
              "wins_y              91\n",
              "raceId_y             0\n",
              "circuitId_y          0\n",
              "name_y               0\n",
              "date_y               0\n",
              "driverId_y           0\n",
              "constructorId_y      0\n",
              "q1                   0\n",
              "q2                   0\n",
              "q3                   0\n",
              "dtype: int64"
            ]
          },
          "execution_count": 19,
          "metadata": {},
          "output_type": "execute_result"
        }
      ],
      "source": [
        "final_df.isna().sum()"
      ]
    },
    {
      "cell_type": "code",
      "execution_count": 20,
      "metadata": {
        "colab": {
          "base_uri": "https://localhost:8080/"
        },
        "id": "LCLNhHl5tYO8",
        "outputId": "de04cd77-fa77-496b-bb8d-3be3c26ac137"
      },
      "outputs": [
        {
          "data": {
            "text/plain": [
              "0       10.0\n",
              "1        8.0\n",
              "2        6.0\n",
              "3        5.0\n",
              "4        4.0\n",
              "        ... \n",
              "9337    22.0\n",
              "9338     3.0\n",
              "9339     0.0\n",
              "9340    11.0\n",
              "9341    46.0\n",
              "Name: points_y, Length: 9342, dtype: float64"
            ]
          },
          "execution_count": 20,
          "metadata": {},
          "output_type": "execute_result"
        }
      ],
      "source": [
        "final_df['points_y']"
      ]
    },
    {
      "cell_type": "code",
      "execution_count": 54,
      "metadata": {
        "id": "vqUemui9zSmF"
      },
      "outputs": [],
      "source": [
        "from sklearn.preprocessing import StandardScaler\n",
        "from sklearn.metrics import precision_score\n",
        "scaler=StandardScaler()\n",
        "\n",
        "def score_classification(model):\n",
        "    score = 0\n",
        "    for circuit in df[df.year == 2019]['round'].unique():\n",
        "\n",
        "        test = df[(df.year == 2019) & (df['round'] == circuit)]\n",
        "        # print(test.head())\n",
        "        X_test = test.drop(['driverId_x', 'positionOrder'], axis = 1)\n",
        "        y_test = test.positionOrder\n",
        "\n",
        "        #scaling\n",
        "        X_test = pd.DataFrame(scaler.transform(X_test), columns = X_test.columns)\n",
        "\n",
        "        # make predictions\n",
        "        prediction_df = pd.DataFrame(model.predict_proba(X_test), columns = ['proba_0', 'proba_1'])\n",
        "        prediction_df['actual'] = y_test.reset_index(drop = True)\n",
        "        prediction_df.sort_values('proba_1', ascending = False, inplace = True)\n",
        "        prediction_df.reset_index(inplace = True, drop = True)\n",
        "        prediction_df['predicted'] = prediction_df.index\n",
        "        prediction_df['predicted'] = prediction_df.predicted.map(lambda x: 1 if x == 0 else 0)\n",
        "\n",
        "        score += precision_score(prediction_df.actual, prediction_df.predicted)\n",
        "\n",
        "    model_score = score / df[final_df.year == 2019]['round'].unique().max()\n",
        "    # plt.plot(prediction_df['actual'])\n",
        "    # plt.plot(prediction_df['predicted'])\n",
        "    # plt.show()\n",
        "    print(model_score)\n",
        "    return model_score"
      ]
    },
    {
      "cell_type": "code",
      "execution_count": 55,
      "metadata": {
        "colab": {
          "base_uri": "https://localhost:8080/"
        },
        "id": "jIcyNcuz1jxV",
        "outputId": "3d6a7704-3aa1-48d5-ac3c-7d93d9f55e66"
      },
      "outputs": [
        {
          "data": {
            "text/plain": [
              "raceId_x            439\n",
              "year                 29\n",
              "round                22\n",
              "circuitId_x          42\n",
              "name_x               42\n",
              "date_x              439\n",
              "driverId_x          165\n",
              "constructorId_x      46\n",
              "grid                 26\n",
              "positionOrder        26\n",
              "points_x             29\n",
              "laps                 85\n",
              "time               3987\n",
              "milliseconds       3987\n",
              "fastestLap           80\n",
              "rank                 25\n",
              "fastestLapTime     6578\n",
              "fastestLapSpeed    6781\n",
              "statusId            101\n",
              "raceId_y            439\n",
              "circuitId_y          42\n",
              "name_y               42\n",
              "date_y              439\n",
              "points_y            372\n",
              "position_x           41\n",
              "wins_x               14\n",
              "raceId_x            439\n",
              "circuitId_x          42\n",
              "name_x               42\n",
              "date_x              439\n",
              "points              498\n",
              "position_y           14\n",
              "wins_y               20\n",
              "raceId_y            439\n",
              "circuitId_y          42\n",
              "name_y               42\n",
              "date_y              439\n",
              "driverId_y          165\n",
              "constructorId_y      46\n",
              "q1                 8246\n",
              "q2                 4746\n",
              "q3                 2986\n",
              "dtype: int64"
            ]
          },
          "execution_count": 55,
          "metadata": {},
          "output_type": "execute_result"
        }
      ],
      "source": [
        "final_df.nunique()"
      ]
    },
    {
      "cell_type": "code",
      "execution_count": 47,
      "metadata": {
        "id": "-Kbe8ivX01gr"
      },
      "outputs": [],
      "source": [
        "df = final_df.copy()\n",
        "df.positionOrder = df.positionOrder.map(lambda x: 1 if x == 1 else 0)\n",
        "df=df.drop(['name_x','date_x','date_y','q1','q2','q3','fastestLapSpeed','fastestLapTime','milliseconds','time','name_y'],axis=1)\n",
        "\n",
        "df.isna().sum()\n",
        "df=df.fillna(0,axis=1)"
      ]
    },
    {
      "cell_type": "code",
      "execution_count": 48,
      "metadata": {
        "colab": {
          "base_uri": "https://localhost:8080/"
        },
        "id": "0TX8BNhy3w7m",
        "outputId": "480460b3-3b4f-4fe1-a4bb-e4f69d3907e7"
      },
      "outputs": [
        {
          "data": {
            "text/plain": [
              "raceId_x           0\n",
              "year               0\n",
              "round              0\n",
              "circuitId_x        0\n",
              "driverId_x         0\n",
              "constructorId_x    0\n",
              "grid               0\n",
              "positionOrder      0\n",
              "points_x           0\n",
              "laps               0\n",
              "fastestLap         0\n",
              "rank               0\n",
              "statusId           0\n",
              "raceId_y           0\n",
              "circuitId_y        0\n",
              "points_y           0\n",
              "position_x         0\n",
              "wins_x             0\n",
              "raceId_x           0\n",
              "circuitId_x        0\n",
              "points             0\n",
              "position_y         0\n",
              "wins_y             0\n",
              "raceId_y           0\n",
              "circuitId_y        0\n",
              "driverId_y         0\n",
              "constructorId_y    0\n",
              "dtype: int64"
            ]
          },
          "execution_count": 48,
          "metadata": {},
          "output_type": "execute_result"
        }
      ],
      "source": [
        "df.isna().sum()"
      ]
    },
    {
      "cell_type": "code",
      "execution_count": 56,
      "metadata": {
        "colab": {
          "base_uri": "https://localhost:8080/",
          "height": 488
        },
        "id": "ERgfl1Q-4MrL",
        "outputId": "464ed6d7-c314-46b2-b644-83f4990eb567"
      },
      "outputs": [
        {
          "data": {
            "text/html": [
              "<div>\n",
              "<style scoped>\n",
              "    .dataframe tbody tr th:only-of-type {\n",
              "        vertical-align: middle;\n",
              "    }\n",
              "\n",
              "    .dataframe tbody tr th {\n",
              "        vertical-align: top;\n",
              "    }\n",
              "\n",
              "    .dataframe thead th {\n",
              "        text-align: right;\n",
              "    }\n",
              "</style>\n",
              "<table border=\"1\" class=\"dataframe\">\n",
              "  <thead>\n",
              "    <tr style=\"text-align: right;\">\n",
              "      <th></th>\n",
              "      <th>raceId_x</th>\n",
              "      <th>year</th>\n",
              "      <th>round</th>\n",
              "      <th>circuitId_x</th>\n",
              "      <th>driverId_x</th>\n",
              "      <th>constructorId_x</th>\n",
              "      <th>grid</th>\n",
              "      <th>positionOrder</th>\n",
              "      <th>points_x</th>\n",
              "      <th>laps</th>\n",
              "      <th>...</th>\n",
              "      <th>wins_x</th>\n",
              "      <th>raceId_x</th>\n",
              "      <th>circuitId_x</th>\n",
              "      <th>points</th>\n",
              "      <th>position_y</th>\n",
              "      <th>wins_y</th>\n",
              "      <th>raceId_y</th>\n",
              "      <th>circuitId_y</th>\n",
              "      <th>driverId_y</th>\n",
              "      <th>constructorId_y</th>\n",
              "    </tr>\n",
              "  </thead>\n",
              "  <tbody>\n",
              "    <tr>\n",
              "      <th>7919</th>\n",
              "      <td>1010</td>\n",
              "      <td>2019</td>\n",
              "      <td>1</td>\n",
              "      <td>1</td>\n",
              "      <td>822</td>\n",
              "      <td>131</td>\n",
              "      <td>2</td>\n",
              "      <td>1</td>\n",
              "      <td>26.0</td>\n",
              "      <td>58</td>\n",
              "      <td>...</td>\n",
              "      <td>1.0</td>\n",
              "      <td>1010.0</td>\n",
              "      <td>1.0</td>\n",
              "      <td>44.0</td>\n",
              "      <td>1.0</td>\n",
              "      <td>1.0</td>\n",
              "      <td>1010</td>\n",
              "      <td>1</td>\n",
              "      <td>822</td>\n",
              "      <td>131</td>\n",
              "    </tr>\n",
              "    <tr>\n",
              "      <th>7920</th>\n",
              "      <td>1010</td>\n",
              "      <td>2019</td>\n",
              "      <td>1</td>\n",
              "      <td>1</td>\n",
              "      <td>1</td>\n",
              "      <td>131</td>\n",
              "      <td>1</td>\n",
              "      <td>0</td>\n",
              "      <td>18.0</td>\n",
              "      <td>58</td>\n",
              "      <td>...</td>\n",
              "      <td>0.0</td>\n",
              "      <td>1010.0</td>\n",
              "      <td>1.0</td>\n",
              "      <td>44.0</td>\n",
              "      <td>1.0</td>\n",
              "      <td>1.0</td>\n",
              "      <td>1010</td>\n",
              "      <td>1</td>\n",
              "      <td>1</td>\n",
              "      <td>131</td>\n",
              "    </tr>\n",
              "    <tr>\n",
              "      <th>7921</th>\n",
              "      <td>1010</td>\n",
              "      <td>2019</td>\n",
              "      <td>1</td>\n",
              "      <td>1</td>\n",
              "      <td>830</td>\n",
              "      <td>9</td>\n",
              "      <td>4</td>\n",
              "      <td>0</td>\n",
              "      <td>15.0</td>\n",
              "      <td>58</td>\n",
              "      <td>...</td>\n",
              "      <td>0.0</td>\n",
              "      <td>1010.0</td>\n",
              "      <td>1.0</td>\n",
              "      <td>15.0</td>\n",
              "      <td>3.0</td>\n",
              "      <td>0.0</td>\n",
              "      <td>1010</td>\n",
              "      <td>1</td>\n",
              "      <td>830</td>\n",
              "      <td>9</td>\n",
              "    </tr>\n",
              "    <tr>\n",
              "      <th>7922</th>\n",
              "      <td>1010</td>\n",
              "      <td>2019</td>\n",
              "      <td>1</td>\n",
              "      <td>1</td>\n",
              "      <td>20</td>\n",
              "      <td>6</td>\n",
              "      <td>3</td>\n",
              "      <td>0</td>\n",
              "      <td>12.0</td>\n",
              "      <td>58</td>\n",
              "      <td>...</td>\n",
              "      <td>0.0</td>\n",
              "      <td>1010.0</td>\n",
              "      <td>1.0</td>\n",
              "      <td>22.0</td>\n",
              "      <td>2.0</td>\n",
              "      <td>0.0</td>\n",
              "      <td>1010</td>\n",
              "      <td>1</td>\n",
              "      <td>20</td>\n",
              "      <td>6</td>\n",
              "    </tr>\n",
              "    <tr>\n",
              "      <th>7923</th>\n",
              "      <td>1010</td>\n",
              "      <td>2019</td>\n",
              "      <td>1</td>\n",
              "      <td>1</td>\n",
              "      <td>844</td>\n",
              "      <td>6</td>\n",
              "      <td>5</td>\n",
              "      <td>0</td>\n",
              "      <td>10.0</td>\n",
              "      <td>58</td>\n",
              "      <td>...</td>\n",
              "      <td>0.0</td>\n",
              "      <td>1010.0</td>\n",
              "      <td>1.0</td>\n",
              "      <td>22.0</td>\n",
              "      <td>2.0</td>\n",
              "      <td>0.0</td>\n",
              "      <td>1010</td>\n",
              "      <td>1</td>\n",
              "      <td>844</td>\n",
              "      <td>6</td>\n",
              "    </tr>\n",
              "    <tr>\n",
              "      <th>...</th>\n",
              "      <td>...</td>\n",
              "      <td>...</td>\n",
              "      <td>...</td>\n",
              "      <td>...</td>\n",
              "      <td>...</td>\n",
              "      <td>...</td>\n",
              "      <td>...</td>\n",
              "      <td>...</td>\n",
              "      <td>...</td>\n",
              "      <td>...</td>\n",
              "      <td>...</td>\n",
              "      <td>...</td>\n",
              "      <td>...</td>\n",
              "      <td>...</td>\n",
              "      <td>...</td>\n",
              "      <td>...</td>\n",
              "      <td>...</td>\n",
              "      <td>...</td>\n",
              "      <td>...</td>\n",
              "      <td>...</td>\n",
              "      <td>...</td>\n",
              "    </tr>\n",
              "    <tr>\n",
              "      <th>8321</th>\n",
              "      <td>1030</td>\n",
              "      <td>2019</td>\n",
              "      <td>21</td>\n",
              "      <td>24</td>\n",
              "      <td>841</td>\n",
              "      <td>51</td>\n",
              "      <td>16</td>\n",
              "      <td>0</td>\n",
              "      <td>0.0</td>\n",
              "      <td>54</td>\n",
              "      <td>...</td>\n",
              "      <td>0.0</td>\n",
              "      <td>1030.0</td>\n",
              "      <td>24.0</td>\n",
              "      <td>57.0</td>\n",
              "      <td>8.0</td>\n",
              "      <td>0.0</td>\n",
              "      <td>1030</td>\n",
              "      <td>24</td>\n",
              "      <td>154</td>\n",
              "      <td>210</td>\n",
              "    </tr>\n",
              "    <tr>\n",
              "      <th>8322</th>\n",
              "      <td>1030</td>\n",
              "      <td>2019</td>\n",
              "      <td>21</td>\n",
              "      <td>24</td>\n",
              "      <td>847</td>\n",
              "      <td>3</td>\n",
              "      <td>18</td>\n",
              "      <td>0</td>\n",
              "      <td>0.0</td>\n",
              "      <td>54</td>\n",
              "      <td>...</td>\n",
              "      <td>0.0</td>\n",
              "      <td>1030.0</td>\n",
              "      <td>24.0</td>\n",
              "      <td>1.0</td>\n",
              "      <td>10.0</td>\n",
              "      <td>0.0</td>\n",
              "      <td>1030</td>\n",
              "      <td>24</td>\n",
              "      <td>8</td>\n",
              "      <td>51</td>\n",
              "    </tr>\n",
              "    <tr>\n",
              "      <th>8323</th>\n",
              "      <td>1030</td>\n",
              "      <td>2019</td>\n",
              "      <td>21</td>\n",
              "      <td>24</td>\n",
              "      <td>842</td>\n",
              "      <td>5</td>\n",
              "      <td>11</td>\n",
              "      <td>0</td>\n",
              "      <td>0.0</td>\n",
              "      <td>53</td>\n",
              "      <td>...</td>\n",
              "      <td>0.0</td>\n",
              "      <td>1030.0</td>\n",
              "      <td>24.0</td>\n",
              "      <td>85.0</td>\n",
              "      <td>6.0</td>\n",
              "      <td>0.0</td>\n",
              "      <td>1030</td>\n",
              "      <td>24</td>\n",
              "      <td>815</td>\n",
              "      <td>211</td>\n",
              "    </tr>\n",
              "    <tr>\n",
              "      <th>8324</th>\n",
              "      <td>1030</td>\n",
              "      <td>2019</td>\n",
              "      <td>21</td>\n",
              "      <td>24</td>\n",
              "      <td>9</td>\n",
              "      <td>3</td>\n",
              "      <td>19</td>\n",
              "      <td>0</td>\n",
              "      <td>0.0</td>\n",
              "      <td>53</td>\n",
              "      <td>...</td>\n",
              "      <td>0.0</td>\n",
              "      <td>1030.0</td>\n",
              "      <td>24.0</td>\n",
              "      <td>1.0</td>\n",
              "      <td>10.0</td>\n",
              "      <td>0.0</td>\n",
              "      <td>1030</td>\n",
              "      <td>24</td>\n",
              "      <td>847</td>\n",
              "      <td>3</td>\n",
              "    </tr>\n",
              "    <tr>\n",
              "      <th>8325</th>\n",
              "      <td>1030</td>\n",
              "      <td>2019</td>\n",
              "      <td>21</td>\n",
              "      <td>24</td>\n",
              "      <td>840</td>\n",
              "      <td>211</td>\n",
              "      <td>12</td>\n",
              "      <td>0</td>\n",
              "      <td>0.0</td>\n",
              "      <td>45</td>\n",
              "      <td>...</td>\n",
              "      <td>0.0</td>\n",
              "      <td>1030.0</td>\n",
              "      <td>24.0</td>\n",
              "      <td>73.0</td>\n",
              "      <td>7.0</td>\n",
              "      <td>0.0</td>\n",
              "      <td>1030</td>\n",
              "      <td>24</td>\n",
              "      <td>842</td>\n",
              "      <td>5</td>\n",
              "    </tr>\n",
              "  </tbody>\n",
              "</table>\n",
              "<p>407 rows × 27 columns</p>\n",
              "</div>"
            ],
            "text/plain": [
              "      raceId_x  year  round  circuitId_x  driverId_x  constructorId_x  grid  \\\n",
              "7919      1010  2019      1            1         822              131     2   \n",
              "7920      1010  2019      1            1           1              131     1   \n",
              "7921      1010  2019      1            1         830                9     4   \n",
              "7922      1010  2019      1            1          20                6     3   \n",
              "7923      1010  2019      1            1         844                6     5   \n",
              "...        ...   ...    ...          ...         ...              ...   ...   \n",
              "8321      1030  2019     21           24         841               51    16   \n",
              "8322      1030  2019     21           24         847                3    18   \n",
              "8323      1030  2019     21           24         842                5    11   \n",
              "8324      1030  2019     21           24           9                3    19   \n",
              "8325      1030  2019     21           24         840              211    12   \n",
              "\n",
              "      positionOrder  points_x  laps  ...  wins_x  raceId_x  circuitId_x  \\\n",
              "7919              1      26.0    58  ...     1.0    1010.0          1.0   \n",
              "7920              0      18.0    58  ...     0.0    1010.0          1.0   \n",
              "7921              0      15.0    58  ...     0.0    1010.0          1.0   \n",
              "7922              0      12.0    58  ...     0.0    1010.0          1.0   \n",
              "7923              0      10.0    58  ...     0.0    1010.0          1.0   \n",
              "...             ...       ...   ...  ...     ...       ...          ...   \n",
              "8321              0       0.0    54  ...     0.0    1030.0         24.0   \n",
              "8322              0       0.0    54  ...     0.0    1030.0         24.0   \n",
              "8323              0       0.0    53  ...     0.0    1030.0         24.0   \n",
              "8324              0       0.0    53  ...     0.0    1030.0         24.0   \n",
              "8325              0       0.0    45  ...     0.0    1030.0         24.0   \n",
              "\n",
              "      points  position_y  wins_y  raceId_y  circuitId_y  driverId_y  \\\n",
              "7919    44.0         1.0     1.0      1010            1         822   \n",
              "7920    44.0         1.0     1.0      1010            1           1   \n",
              "7921    15.0         3.0     0.0      1010            1         830   \n",
              "7922    22.0         2.0     0.0      1010            1          20   \n",
              "7923    22.0         2.0     0.0      1010            1         844   \n",
              "...      ...         ...     ...       ...          ...         ...   \n",
              "8321    57.0         8.0     0.0      1030           24         154   \n",
              "8322     1.0        10.0     0.0      1030           24           8   \n",
              "8323    85.0         6.0     0.0      1030           24         815   \n",
              "8324     1.0        10.0     0.0      1030           24         847   \n",
              "8325    73.0         7.0     0.0      1030           24         842   \n",
              "\n",
              "      constructorId_y  \n",
              "7919              131  \n",
              "7920              131  \n",
              "7921                9  \n",
              "7922                6  \n",
              "7923                6  \n",
              "...               ...  \n",
              "8321              210  \n",
              "8322               51  \n",
              "8323              211  \n",
              "8324                3  \n",
              "8325                5  \n",
              "\n",
              "[407 rows x 27 columns]"
            ]
          },
          "execution_count": 56,
          "metadata": {},
          "output_type": "execute_result"
        }
      ],
      "source": [
        "df[df['year']==2019]"
      ]
    },
    {
      "cell_type": "code",
      "execution_count": 57,
      "metadata": {
        "colab": {
          "base_uri": "https://localhost:8080/"
        },
        "id": "_0i-T9Ky4_zp",
        "outputId": "4093b88e-84ec-4ac4-a825-5e70ccca9a9b"
      },
      "outputs": [
        {
          "name": "stdout",
          "output_type": "stream",
          "text": [
            "<class 'pandas.core.frame.DataFrame'>\n",
            "Int64Index: 9342 entries, 0 to 9341\n",
            "Data columns (total 27 columns):\n",
            " #   Column           Non-Null Count  Dtype  \n",
            "---  ------           --------------  -----  \n",
            " 0   raceId_x         9342 non-null   int64  \n",
            " 1   year             9342 non-null   int64  \n",
            " 2   round            9342 non-null   int64  \n",
            " 3   circuitId_x      9342 non-null   int64  \n",
            " 4   driverId_x       9342 non-null   int64  \n",
            " 5   constructorId_x  9342 non-null   int64  \n",
            " 6   grid             9342 non-null   int64  \n",
            " 7   positionOrder    9342 non-null   int64  \n",
            " 8   points_x         9342 non-null   float64\n",
            " 9   laps             9342 non-null   int64  \n",
            " 10  fastestLap       9342 non-null   float64\n",
            " 11  rank             9342 non-null   float64\n",
            " 12  statusId         9342 non-null   int64  \n",
            " 13  raceId_y         9342 non-null   float64\n",
            " 14  circuitId_y      9342 non-null   float64\n",
            " 15  points_y         9342 non-null   float64\n",
            " 16  position_x       9342 non-null   float64\n",
            " 17  wins_x           9342 non-null   float64\n",
            " 18  raceId_x         9342 non-null   float64\n",
            " 19  circuitId_x      9342 non-null   float64\n",
            " 20  points           9342 non-null   float64\n",
            " 21  position_y       9342 non-null   float64\n",
            " 22  wins_y           9342 non-null   float64\n",
            " 23  raceId_y         9342 non-null   int64  \n",
            " 24  circuitId_y      9342 non-null   int64  \n",
            " 25  driverId_y       9342 non-null   int64  \n",
            " 26  constructorId_y  9342 non-null   int64  \n",
            "dtypes: float64(13), int64(14)\n",
            "memory usage: 2.0 MB\n"
          ]
        }
      ],
      "source": [
        "df.info()"
      ]
    },
    {
      "cell_type": "code",
      "execution_count": 60,
      "metadata": {
        "colab": {
          "base_uri": "https://localhost:8080/",
          "height": 380
        },
        "id": "fxqp3mom1gMP",
        "outputId": "3ba134ca-6c2e-415e-bb4d-93a57369d947"
      },
      "outputs": [
        {
          "name": "stdout",
          "output_type": "stream",
          "text": [
            "1.0\n",
            "1.0\n",
            "1.0\n",
            "1.0\n",
            "1.0\n",
            "1.0\n",
            "1.0\n",
            "1.0\n",
            "1.0\n",
            "1.0\n",
            "1.0\n",
            "1.0\n",
            "1.0\n",
            "1.0\n",
            "1.0\n",
            "1.0\n"
          ]
        },
        {
          "name": "stderr",
          "output_type": "stream",
          "text": [
            "/home/aragorn/.local/lib/python3.10/site-packages/sklearn/ensemble/_forest.py:427: FutureWarning: `max_features='auto'` has been deprecated in 1.1 and will be removed in 1.3. To keep the past behaviour, explicitly set `max_features='sqrt'` or remove this parameter as it is also the default value for RandomForestClassifiers and ExtraTreesClassifiers.\n",
            "  warn(\n"
          ]
        },
        {
          "name": "stdout",
          "output_type": "stream",
          "text": [
            "1.0\n"
          ]
        },
        {
          "name": "stderr",
          "output_type": "stream",
          "text": [
            "/home/aragorn/.local/lib/python3.10/site-packages/sklearn/ensemble/_forest.py:427: FutureWarning: `max_features='auto'` has been deprecated in 1.1 and will be removed in 1.3. To keep the past behaviour, explicitly set `max_features='sqrt'` or remove this parameter as it is also the default value for RandomForestClassifiers and ExtraTreesClassifiers.\n",
            "  warn(\n"
          ]
        },
        {
          "name": "stdout",
          "output_type": "stream",
          "text": [
            "1.0\n"
          ]
        },
        {
          "name": "stderr",
          "output_type": "stream",
          "text": [
            "/home/aragorn/.local/lib/python3.10/site-packages/sklearn/ensemble/_forest.py:427: FutureWarning: `max_features='auto'` has been deprecated in 1.1 and will be removed in 1.3. To keep the past behaviour, explicitly set `max_features='sqrt'` or remove this parameter as it is also the default value for RandomForestClassifiers and ExtraTreesClassifiers.\n",
            "  warn(\n"
          ]
        },
        {
          "name": "stdout",
          "output_type": "stream",
          "text": [
            "1.0\n"
          ]
        },
        {
          "name": "stderr",
          "output_type": "stream",
          "text": [
            "/home/aragorn/.local/lib/python3.10/site-packages/sklearn/ensemble/_forest.py:427: FutureWarning: `max_features='auto'` has been deprecated in 1.1 and will be removed in 1.3. To keep the past behaviour, explicitly set `max_features='sqrt'` or remove this parameter as it is also the default value for RandomForestClassifiers and ExtraTreesClassifiers.\n",
            "  warn(\n"
          ]
        },
        {
          "name": "stdout",
          "output_type": "stream",
          "text": [
            "1.0\n"
          ]
        },
        {
          "name": "stderr",
          "output_type": "stream",
          "text": [
            "/home/aragorn/.local/lib/python3.10/site-packages/sklearn/ensemble/_forest.py:427: FutureWarning: `max_features='auto'` has been deprecated in 1.1 and will be removed in 1.3. To keep the past behaviour, explicitly set `max_features='sqrt'` or remove this parameter as it is also the default value for RandomForestClassifiers and ExtraTreesClassifiers.\n",
            "  warn(\n"
          ]
        },
        {
          "name": "stdout",
          "output_type": "stream",
          "text": [
            "1.0\n"
          ]
        },
        {
          "name": "stderr",
          "output_type": "stream",
          "text": [
            "/home/aragorn/.local/lib/python3.10/site-packages/sklearn/ensemble/_forest.py:427: FutureWarning: `max_features='auto'` has been deprecated in 1.1 and will be removed in 1.3. To keep the past behaviour, explicitly set `max_features='sqrt'` or remove this parameter as it is also the default value for RandomForestClassifiers and ExtraTreesClassifiers.\n",
            "  warn(\n"
          ]
        },
        {
          "name": "stdout",
          "output_type": "stream",
          "text": [
            "1.0\n"
          ]
        },
        {
          "name": "stderr",
          "output_type": "stream",
          "text": [
            "/home/aragorn/.local/lib/python3.10/site-packages/sklearn/ensemble/_forest.py:427: FutureWarning: `max_features='auto'` has been deprecated in 1.1 and will be removed in 1.3. To keep the past behaviour, explicitly set `max_features='sqrt'` or remove this parameter as it is also the default value for RandomForestClassifiers and ExtraTreesClassifiers.\n",
            "  warn(\n"
          ]
        },
        {
          "name": "stdout",
          "output_type": "stream",
          "text": [
            "1.0\n"
          ]
        },
        {
          "name": "stderr",
          "output_type": "stream",
          "text": [
            "/home/aragorn/.local/lib/python3.10/site-packages/sklearn/ensemble/_forest.py:427: FutureWarning: `max_features='auto'` has been deprecated in 1.1 and will be removed in 1.3. To keep the past behaviour, explicitly set `max_features='sqrt'` or remove this parameter as it is also the default value for RandomForestClassifiers and ExtraTreesClassifiers.\n",
            "  warn(\n"
          ]
        },
        {
          "name": "stdout",
          "output_type": "stream",
          "text": [
            "1.0\n"
          ]
        },
        {
          "name": "stderr",
          "output_type": "stream",
          "text": [
            "/home/aragorn/.local/lib/python3.10/site-packages/sklearn/ensemble/_forest.py:427: FutureWarning: `max_features='auto'` has been deprecated in 1.1 and will be removed in 1.3. To keep the past behaviour, explicitly set `max_features='sqrt'` or remove this parameter as it is also the default value for RandomForestClassifiers and ExtraTreesClassifiers.\n",
            "  warn(\n"
          ]
        },
        {
          "name": "stdout",
          "output_type": "stream",
          "text": [
            "1.0\n"
          ]
        },
        {
          "name": "stderr",
          "output_type": "stream",
          "text": [
            "/home/aragorn/.local/lib/python3.10/site-packages/sklearn/ensemble/_forest.py:427: FutureWarning: `max_features='auto'` has been deprecated in 1.1 and will be removed in 1.3. To keep the past behaviour, explicitly set `max_features='sqrt'` or remove this parameter as it is also the default value for RandomForestClassifiers and ExtraTreesClassifiers.\n",
            "  warn(\n"
          ]
        },
        {
          "name": "stdout",
          "output_type": "stream",
          "text": [
            "1.0\n"
          ]
        },
        {
          "name": "stderr",
          "output_type": "stream",
          "text": [
            "/home/aragorn/.local/lib/python3.10/site-packages/sklearn/ensemble/_forest.py:427: FutureWarning: `max_features='auto'` has been deprecated in 1.1 and will be removed in 1.3. To keep the past behaviour, explicitly set `max_features='sqrt'` or remove this parameter as it is also the default value for RandomForestClassifiers and ExtraTreesClassifiers.\n",
            "  warn(\n"
          ]
        },
        {
          "name": "stdout",
          "output_type": "stream",
          "text": [
            "1.0\n"
          ]
        },
        {
          "name": "stderr",
          "output_type": "stream",
          "text": [
            "/home/aragorn/.local/lib/python3.10/site-packages/sklearn/ensemble/_forest.py:427: FutureWarning: `max_features='auto'` has been deprecated in 1.1 and will be removed in 1.3. To keep the past behaviour, explicitly set `max_features='sqrt'` or remove this parameter as it is also the default value for RandomForestClassifiers and ExtraTreesClassifiers.\n",
            "  warn(\n"
          ]
        },
        {
          "name": "stdout",
          "output_type": "stream",
          "text": [
            "1.0\n"
          ]
        },
        {
          "name": "stderr",
          "output_type": "stream",
          "text": [
            "/home/aragorn/.local/lib/python3.10/site-packages/sklearn/ensemble/_forest.py:427: FutureWarning: `max_features='auto'` has been deprecated in 1.1 and will be removed in 1.3. To keep the past behaviour, explicitly set `max_features='sqrt'` or remove this parameter as it is also the default value for RandomForestClassifiers and ExtraTreesClassifiers.\n",
            "  warn(\n"
          ]
        },
        {
          "name": "stdout",
          "output_type": "stream",
          "text": [
            "1.0\n"
          ]
        },
        {
          "name": "stderr",
          "output_type": "stream",
          "text": [
            "/home/aragorn/.local/lib/python3.10/site-packages/sklearn/ensemble/_forest.py:427: FutureWarning: `max_features='auto'` has been deprecated in 1.1 and will be removed in 1.3. To keep the past behaviour, explicitly set `max_features='sqrt'` or remove this parameter as it is also the default value for RandomForestClassifiers and ExtraTreesClassifiers.\n",
            "  warn(\n"
          ]
        },
        {
          "name": "stdout",
          "output_type": "stream",
          "text": [
            "1.0\n"
          ]
        },
        {
          "name": "stderr",
          "output_type": "stream",
          "text": [
            "/home/aragorn/.local/lib/python3.10/site-packages/sklearn/ensemble/_forest.py:427: FutureWarning: `max_features='auto'` has been deprecated in 1.1 and will be removed in 1.3. To keep the past behaviour, explicitly set `max_features='sqrt'` or remove this parameter as it is also the default value for RandomForestClassifiers and ExtraTreesClassifiers.\n",
            "  warn(\n"
          ]
        },
        {
          "name": "stdout",
          "output_type": "stream",
          "text": [
            "1.0\n"
          ]
        },
        {
          "name": "stderr",
          "output_type": "stream",
          "text": [
            "/home/aragorn/.local/lib/python3.10/site-packages/sklearn/ensemble/_forest.py:427: FutureWarning: `max_features='auto'` has been deprecated in 1.1 and will be removed in 1.3. To keep the past behaviour, explicitly set `max_features='sqrt'` or remove this parameter as it is also the default value for RandomForestClassifiers and ExtraTreesClassifiers.\n",
            "  warn(\n"
          ]
        },
        {
          "name": "stdout",
          "output_type": "stream",
          "text": [
            "1.0\n",
            "1.0\n",
            "1.0\n",
            "1.0\n",
            "1.0\n",
            "1.0\n",
            "1.0\n",
            "1.0\n",
            "1.0\n",
            "1.0\n",
            "1.0\n",
            "1.0\n",
            "1.0\n",
            "1.0\n",
            "1.0\n",
            "1.0\n",
            "1.0\n",
            "1.0\n",
            "1.0\n",
            "1.0\n",
            "1.0\n",
            "1.0\n",
            "1.0\n",
            "1.0\n",
            "1.0\n",
            "1.0\n",
            "1.0\n",
            "1.0\n",
            "1.0\n",
            "1.0\n",
            "1.0\n",
            "1.0\n",
            "1.0\n"
          ]
        },
        {
          "name": "stderr",
          "output_type": "stream",
          "text": [
            "/home/aragorn/.local/lib/python3.10/site-packages/sklearn/ensemble/_forest.py:427: FutureWarning: `max_features='auto'` has been deprecated in 1.1 and will be removed in 1.3. To keep the past behaviour, explicitly set `max_features='sqrt'` or remove this parameter as it is also the default value for RandomForestClassifiers and ExtraTreesClassifiers.\n",
            "  warn(\n"
          ]
        },
        {
          "name": "stdout",
          "output_type": "stream",
          "text": [
            "1.0\n"
          ]
        },
        {
          "name": "stderr",
          "output_type": "stream",
          "text": [
            "/home/aragorn/.local/lib/python3.10/site-packages/sklearn/ensemble/_forest.py:427: FutureWarning: `max_features='auto'` has been deprecated in 1.1 and will be removed in 1.3. To keep the past behaviour, explicitly set `max_features='sqrt'` or remove this parameter as it is also the default value for RandomForestClassifiers and ExtraTreesClassifiers.\n",
            "  warn(\n"
          ]
        },
        {
          "name": "stdout",
          "output_type": "stream",
          "text": [
            "1.0\n"
          ]
        },
        {
          "name": "stderr",
          "output_type": "stream",
          "text": [
            "/home/aragorn/.local/lib/python3.10/site-packages/sklearn/ensemble/_forest.py:427: FutureWarning: `max_features='auto'` has been deprecated in 1.1 and will be removed in 1.3. To keep the past behaviour, explicitly set `max_features='sqrt'` or remove this parameter as it is also the default value for RandomForestClassifiers and ExtraTreesClassifiers.\n",
            "  warn(\n"
          ]
        },
        {
          "name": "stdout",
          "output_type": "stream",
          "text": [
            "1.0\n"
          ]
        },
        {
          "name": "stderr",
          "output_type": "stream",
          "text": [
            "/home/aragorn/.local/lib/python3.10/site-packages/sklearn/ensemble/_forest.py:427: FutureWarning: `max_features='auto'` has been deprecated in 1.1 and will be removed in 1.3. To keep the past behaviour, explicitly set `max_features='sqrt'` or remove this parameter as it is also the default value for RandomForestClassifiers and ExtraTreesClassifiers.\n",
            "  warn(\n"
          ]
        },
        {
          "name": "stdout",
          "output_type": "stream",
          "text": [
            "1.0\n"
          ]
        },
        {
          "name": "stderr",
          "output_type": "stream",
          "text": [
            "/home/aragorn/.local/lib/python3.10/site-packages/sklearn/ensemble/_forest.py:427: FutureWarning: `max_features='auto'` has been deprecated in 1.1 and will be removed in 1.3. To keep the past behaviour, explicitly set `max_features='sqrt'` or remove this parameter as it is also the default value for RandomForestClassifiers and ExtraTreesClassifiers.\n",
            "  warn(\n"
          ]
        },
        {
          "name": "stdout",
          "output_type": "stream",
          "text": [
            "1.0\n"
          ]
        },
        {
          "name": "stderr",
          "output_type": "stream",
          "text": [
            "/home/aragorn/.local/lib/python3.10/site-packages/sklearn/ensemble/_forest.py:427: FutureWarning: `max_features='auto'` has been deprecated in 1.1 and will be removed in 1.3. To keep the past behaviour, explicitly set `max_features='sqrt'` or remove this parameter as it is also the default value for RandomForestClassifiers and ExtraTreesClassifiers.\n",
            "  warn(\n"
          ]
        },
        {
          "name": "stdout",
          "output_type": "stream",
          "text": [
            "1.0\n"
          ]
        },
        {
          "name": "stderr",
          "output_type": "stream",
          "text": [
            "/home/aragorn/.local/lib/python3.10/site-packages/sklearn/ensemble/_forest.py:427: FutureWarning: `max_features='auto'` has been deprecated in 1.1 and will be removed in 1.3. To keep the past behaviour, explicitly set `max_features='sqrt'` or remove this parameter as it is also the default value for RandomForestClassifiers and ExtraTreesClassifiers.\n",
            "  warn(\n"
          ]
        },
        {
          "name": "stdout",
          "output_type": "stream",
          "text": [
            "1.0\n"
          ]
        },
        {
          "name": "stderr",
          "output_type": "stream",
          "text": [
            "/home/aragorn/.local/lib/python3.10/site-packages/sklearn/ensemble/_forest.py:427: FutureWarning: `max_features='auto'` has been deprecated in 1.1 and will be removed in 1.3. To keep the past behaviour, explicitly set `max_features='sqrt'` or remove this parameter as it is also the default value for RandomForestClassifiers and ExtraTreesClassifiers.\n",
            "  warn(\n"
          ]
        },
        {
          "name": "stdout",
          "output_type": "stream",
          "text": [
            "1.0\n"
          ]
        },
        {
          "name": "stderr",
          "output_type": "stream",
          "text": [
            "/home/aragorn/.local/lib/python3.10/site-packages/sklearn/ensemble/_forest.py:427: FutureWarning: `max_features='auto'` has been deprecated in 1.1 and will be removed in 1.3. To keep the past behaviour, explicitly set `max_features='sqrt'` or remove this parameter as it is also the default value for RandomForestClassifiers and ExtraTreesClassifiers.\n",
            "  warn(\n"
          ]
        },
        {
          "name": "stdout",
          "output_type": "stream",
          "text": [
            "1.0\n"
          ]
        },
        {
          "name": "stderr",
          "output_type": "stream",
          "text": [
            "/home/aragorn/.local/lib/python3.10/site-packages/sklearn/ensemble/_forest.py:427: FutureWarning: `max_features='auto'` has been deprecated in 1.1 and will be removed in 1.3. To keep the past behaviour, explicitly set `max_features='sqrt'` or remove this parameter as it is also the default value for RandomForestClassifiers and ExtraTreesClassifiers.\n",
            "  warn(\n"
          ]
        },
        {
          "name": "stdout",
          "output_type": "stream",
          "text": [
            "1.0\n"
          ]
        },
        {
          "name": "stderr",
          "output_type": "stream",
          "text": [
            "/home/aragorn/.local/lib/python3.10/site-packages/sklearn/ensemble/_forest.py:427: FutureWarning: `max_features='auto'` has been deprecated in 1.1 and will be removed in 1.3. To keep the past behaviour, explicitly set `max_features='sqrt'` or remove this parameter as it is also the default value for RandomForestClassifiers and ExtraTreesClassifiers.\n",
            "  warn(\n"
          ]
        },
        {
          "name": "stdout",
          "output_type": "stream",
          "text": [
            "1.0\n"
          ]
        },
        {
          "name": "stderr",
          "output_type": "stream",
          "text": [
            "/home/aragorn/.local/lib/python3.10/site-packages/sklearn/ensemble/_forest.py:427: FutureWarning: `max_features='auto'` has been deprecated in 1.1 and will be removed in 1.3. To keep the past behaviour, explicitly set `max_features='sqrt'` or remove this parameter as it is also the default value for RandomForestClassifiers and ExtraTreesClassifiers.\n",
            "  warn(\n"
          ]
        },
        {
          "name": "stdout",
          "output_type": "stream",
          "text": [
            "1.0\n"
          ]
        },
        {
          "name": "stderr",
          "output_type": "stream",
          "text": [
            "/home/aragorn/.local/lib/python3.10/site-packages/sklearn/ensemble/_forest.py:427: FutureWarning: `max_features='auto'` has been deprecated in 1.1 and will be removed in 1.3. To keep the past behaviour, explicitly set `max_features='sqrt'` or remove this parameter as it is also the default value for RandomForestClassifiers and ExtraTreesClassifiers.\n",
            "  warn(\n"
          ]
        },
        {
          "name": "stdout",
          "output_type": "stream",
          "text": [
            "1.0\n"
          ]
        },
        {
          "name": "stderr",
          "output_type": "stream",
          "text": [
            "/home/aragorn/.local/lib/python3.10/site-packages/sklearn/ensemble/_forest.py:427: FutureWarning: `max_features='auto'` has been deprecated in 1.1 and will be removed in 1.3. To keep the past behaviour, explicitly set `max_features='sqrt'` or remove this parameter as it is also the default value for RandomForestClassifiers and ExtraTreesClassifiers.\n",
            "  warn(\n"
          ]
        },
        {
          "name": "stdout",
          "output_type": "stream",
          "text": [
            "1.0\n"
          ]
        },
        {
          "name": "stderr",
          "output_type": "stream",
          "text": [
            "/home/aragorn/.local/lib/python3.10/site-packages/sklearn/ensemble/_forest.py:427: FutureWarning: `max_features='auto'` has been deprecated in 1.1 and will be removed in 1.3. To keep the past behaviour, explicitly set `max_features='sqrt'` or remove this parameter as it is also the default value for RandomForestClassifiers and ExtraTreesClassifiers.\n",
            "  warn(\n"
          ]
        },
        {
          "name": "stdout",
          "output_type": "stream",
          "text": [
            "1.0\n"
          ]
        },
        {
          "name": "stderr",
          "output_type": "stream",
          "text": [
            "/home/aragorn/.local/lib/python3.10/site-packages/sklearn/ensemble/_forest.py:427: FutureWarning: `max_features='auto'` has been deprecated in 1.1 and will be removed in 1.3. To keep the past behaviour, explicitly set `max_features='sqrt'` or remove this parameter as it is also the default value for RandomForestClassifiers and ExtraTreesClassifiers.\n",
            "  warn(\n"
          ]
        },
        {
          "name": "stdout",
          "output_type": "stream",
          "text": [
            "1.0\n",
            "1.0\n",
            "1.0\n",
            "1.0\n",
            "1.0\n",
            "1.0\n",
            "1.0\n",
            "1.0\n",
            "1.0\n",
            "1.0\n",
            "1.0\n",
            "1.0\n",
            "1.0\n",
            "1.0\n",
            "1.0\n",
            "1.0\n",
            "1.0\n"
          ]
        }
      ],
      "source": [
        "comparison_dict ={'model':[],\n",
        "                  'params': [],\n",
        "                  'score': []}\n",
        "from sklearn.ensemble import RandomForestClassifier\n",
        "#split train\n",
        "\n",
        "train = df[df.year <2019]\n",
        "X_train = train.drop(['driverId_x', 'positionOrder'], axis = 1)\n",
        "y_train = train.positionOrder\n",
        "\n",
        "scaler = StandardScaler()\n",
        "X_train = pd.DataFrame(scaler.fit_transform(X_train), columns = X_train.columns)\n",
        "\n",
        "\n",
        "params={'criterion': ['gini', 'entropy'],\n",
        "        'max_features': ['sqrt','log2'],\n",
        "        'max_depth': list(np.arange(start=5, stop=20)) + [None]}\n",
        "\n",
        "for criterion in params['criterion']:\n",
        "    for max_features in params['max_features']:\n",
        "        for max_depth in params['max_depth']:\n",
        "            model_params = (criterion, max_features, max_depth)\n",
        "            model = RandomForestClassifier(criterion = criterion, max_features = max_features, max_depth = max_depth,random_state=1)\n",
        "            model.fit(X_train, y_train)\n",
        "            \n",
        "            model_score = score_classification(model)\n",
        "            \n",
        "            comparison_dict['model'].append('random_forest_classifier')\n",
        "            comparison_dict['params'].append(model_params)\n",
        "            comparison_dict['score'].append(model_score)"
      ]
    },
    {
      "cell_type": "code",
      "execution_count": 29,
      "metadata": {
        "colab": {
          "base_uri": "https://localhost:8080/"
        },
        "id": "HR-kNU-F3zbK",
        "outputId": "cc7a865c-4ef8-4635-d730-831beba211b5"
      },
      "outputs": [
        {
          "data": {
            "text/plain": [
              "{'model': ['random_forest_classifier',\n",
              "  'random_forest_classifier',\n",
              "  'random_forest_classifier',\n",
              "  'random_forest_classifier',\n",
              "  'random_forest_classifier',\n",
              "  'random_forest_classifier'],\n",
              " 'params': [('gini', 0.8),\n",
              "  ('gini', 'auto'),\n",
              "  ('gini', None),\n",
              "  ('entropy', 0.8),\n",
              "  ('entropy', 'auto'),\n",
              "  ('entropy', None)],\n",
              " 'score': [1.0, 1.0, 1.0, 1.0, 1.0, 1.0]}"
            ]
          },
          "execution_count": 29,
          "metadata": {},
          "output_type": "execute_result"
        }
      ],
      "source": [
        "comparison_dict"
      ]
    }
  ],
  "metadata": {
    "colab": {
      "provenance": []
    },
    "kernelspec": {
      "display_name": "Python 3.10.6 64-bit",
      "language": "python",
      "name": "python3"
    },
    "language_info": {
      "codemirror_mode": {
        "name": "ipython",
        "version": 3
      },
      "file_extension": ".py",
      "mimetype": "text/x-python",
      "name": "python",
      "nbconvert_exporter": "python",
      "pygments_lexer": "ipython3",
      "version": "3.10.6"
    },
    "vscode": {
      "interpreter": {
        "hash": "916dbcbb3f70747c44a77c7bcd40155683ae19c65e1c03b4aa3499c5328201f1"
      }
    }
  },
  "nbformat": 4,
  "nbformat_minor": 0
}
